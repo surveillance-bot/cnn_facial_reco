{
 "cells": [
  {
   "cell_type": "code",
   "execution_count": 8,
   "id": "c5c27f29",
   "metadata": {},
   "outputs": [
    {
     "name": "stdout",
     "output_type": "stream",
     "text": [
      "377\n"
     ]
    }
   ],
   "source": [
    "import cv2\n",
    "import numpy as np\n",
    "import dlib\n",
    "    \n",
    "cap = cv2.VideoCapture(\"exercise.mp4\")\n",
    "length = int(cap.get(cv2.CAP_PROP_FRAME_COUNT))\n",
    "print(length)\n",
    "\n",
    "count = 0\n",
    "\n",
    "while cap.isOpened():\n",
    "    ret, frame = cap.read()\n",
    "\n",
    "    if ret:\n",
    "        cv2.imwrite('frame{:d}.jpg'.format(count), frame)\n",
    "        count += 30 \n",
    "        cap.set(cv2.CAP_PROP_POS_FRAMES, count)\n",
    "    else:\n",
    "        cap.release()\n",
    "        break\n"
   ]
  },
  {
   "cell_type": "code",
   "execution_count": 41,
   "id": "cedbe97c",
   "metadata": {},
   "outputs": [
    {
     "name": "stdout",
     "output_type": "stream",
     "text": [
      "WARNING: Representations for images in  /Users/shirazmangat/Desktop/exercise_frames  folder were previously stored in  representations_vgg_face.pkl . If you added new instances after this file creation, then please delete this file and call find function again. It will create it again.\n",
      "There are  13  representations found in  representations_vgg_face.pkl\n",
      "1/1 [==============================] - 0s 376ms/step\n",
      "find function lasts  0.5333490371704102  seconds\n"
     ]
    }
   ],
   "source": [
    "from deepface import DeepFace\n",
    "import pandas as pd\n",
    "df = DeepFace.find(img_path = \"target2.jpg\", db_path = \"/Users/shirazmangat/Desktop/exercise_frames\", model_name = 'VGG-Face', enforce_detection = False, distance_metric='cosine')"
   ]
  },
  {
   "cell_type": "code",
   "execution_count": 42,
   "id": "72d28cd4",
   "metadata": {},
   "outputs": [
    {
     "data": {
      "text/html": [
       "<div>\n",
       "<style scoped>\n",
       "    .dataframe tbody tr th:only-of-type {\n",
       "        vertical-align: middle;\n",
       "    }\n",
       "\n",
       "    .dataframe tbody tr th {\n",
       "        vertical-align: top;\n",
       "    }\n",
       "\n",
       "    .dataframe thead th {\n",
       "        text-align: right;\n",
       "    }\n",
       "</style>\n",
       "<table border=\"1\" class=\"dataframe\">\n",
       "  <thead>\n",
       "    <tr style=\"text-align: right;\">\n",
       "      <th></th>\n",
       "      <th>identity</th>\n",
       "      <th>VGG-Face_cosine</th>\n",
       "    </tr>\n",
       "  </thead>\n",
       "  <tbody>\n",
       "    <tr>\n",
       "      <th>0</th>\n",
       "      <td>/Users/shirazmangat/Desktop/exercise_frames/fr...</td>\n",
       "      <td>0.224584</td>\n",
       "    </tr>\n",
       "    <tr>\n",
       "      <th>1</th>\n",
       "      <td>/Users/shirazmangat/Desktop/exercise_frames/fr...</td>\n",
       "      <td>0.230541</td>\n",
       "    </tr>\n",
       "    <tr>\n",
       "      <th>2</th>\n",
       "      <td>/Users/shirazmangat/Desktop/exercise_frames/fr...</td>\n",
       "      <td>0.240598</td>\n",
       "    </tr>\n",
       "    <tr>\n",
       "      <th>3</th>\n",
       "      <td>/Users/shirazmangat/Desktop/exercise_frames/fr...</td>\n",
       "      <td>0.244322</td>\n",
       "    </tr>\n",
       "    <tr>\n",
       "      <th>4</th>\n",
       "      <td>/Users/shirazmangat/Desktop/exercise_frames/fr...</td>\n",
       "      <td>0.249075</td>\n",
       "    </tr>\n",
       "    <tr>\n",
       "      <th>5</th>\n",
       "      <td>/Users/shirazmangat/Desktop/exercise_frames/fr...</td>\n",
       "      <td>0.250242</td>\n",
       "    </tr>\n",
       "    <tr>\n",
       "      <th>6</th>\n",
       "      <td>/Users/shirazmangat/Desktop/exercise_frames/fr...</td>\n",
       "      <td>0.252569</td>\n",
       "    </tr>\n",
       "    <tr>\n",
       "      <th>7</th>\n",
       "      <td>/Users/shirazmangat/Desktop/exercise_frames/fr...</td>\n",
       "      <td>0.267862</td>\n",
       "    </tr>\n",
       "  </tbody>\n",
       "</table>\n",
       "</div>"
      ],
      "text/plain": [
       "                                            identity  VGG-Face_cosine\n",
       "0  /Users/shirazmangat/Desktop/exercise_frames/fr...         0.224584\n",
       "1  /Users/shirazmangat/Desktop/exercise_frames/fr...         0.230541\n",
       "2  /Users/shirazmangat/Desktop/exercise_frames/fr...         0.240598\n",
       "3  /Users/shirazmangat/Desktop/exercise_frames/fr...         0.244322\n",
       "4  /Users/shirazmangat/Desktop/exercise_frames/fr...         0.249075\n",
       "5  /Users/shirazmangat/Desktop/exercise_frames/fr...         0.250242\n",
       "6  /Users/shirazmangat/Desktop/exercise_frames/fr...         0.252569\n",
       "7  /Users/shirazmangat/Desktop/exercise_frames/fr...         0.267862"
      ]
     },
     "execution_count": 42,
     "metadata": {},
     "output_type": "execute_result"
    }
   ],
   "source": [
    "df"
   ]
  },
  {
   "cell_type": "code",
   "execution_count": null,
   "id": "397542b7",
   "metadata": {},
   "outputs": [],
   "source": []
  },
  {
   "cell_type": "code",
   "execution_count": null,
   "id": "d3c1f34e",
   "metadata": {},
   "outputs": [],
   "source": []
  }
 ],
 "metadata": {
  "kernelspec": {
   "display_name": "Python 3 (ipykernel)",
   "language": "python",
   "name": "python3"
  },
  "language_info": {
   "codemirror_mode": {
    "name": "ipython",
    "version": 3
   },
   "file_extension": ".py",
   "mimetype": "text/x-python",
   "name": "python",
   "nbconvert_exporter": "python",
   "pygments_lexer": "ipython3",
   "version": "3.9.1"
  }
 },
 "nbformat": 4,
 "nbformat_minor": 5
}
